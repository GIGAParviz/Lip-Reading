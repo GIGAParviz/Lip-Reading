{
  "cells": [
    {
      "cell_type": "markdown",
      "metadata": {
        "id": "view-in-github",
        "colab_type": "text"
      },
      "source": [
        "<a href=\"https://colab.research.google.com/github/GIGAParviz/Lip-Reading/blob/main/Lip_Reading.ipynb\" target=\"_parent\"><img src=\"https://colab.research.google.com/assets/colab-badge.svg\" alt=\"Open In Colab\"/></a>"
      ]
    },
    {
      "cell_type": "code",
      "execution_count": 1,
      "metadata": {
        "id": "nt2Q4BDwcz01"
      },
      "outputs": [],
      "source": [
        "import os\n",
        "import cv2\n",
        "import tensorflow as tf\n",
        "import numpy as np\n",
        "from typing import List\n",
        "from matplotlib import pyplot as plt\n",
        "import imageio"
      ]
    },
    {
      "cell_type": "code",
      "execution_count": 2,
      "metadata": {
        "colab": {
          "base_uri": "https://localhost:8080/"
        },
        "id": "G3ljFBOZ5q18",
        "outputId": "d28b465a-208b-46e4-f21d-0154597cffb7"
      },
      "outputs": [
        {
          "output_type": "stream",
          "name": "stderr",
          "text": [
            "Downloading...\n",
            "From: https://drive.google.com/uc?id=1YlvpDLix3S-U8fd-gqRwPcWXAXm8JwjL\n",
            "To: /content/data.zip\n",
            "100%|██████████| 423M/423M [00:02<00:00, 156MB/s]\n"
          ]
        },
        {
          "output_type": "execute_result",
          "data": {
            "text/plain": [
              "['data/',\n",
              " 'data/alignments/',\n",
              " 'data/alignments/s1/',\n",
              " 'data/alignments/s1/bbaf2n.align',\n",
              " 'data/alignments/s1/bbaf3s.align',\n",
              " 'data/alignments/s1/bbaf4p.align',\n",
              " 'data/alignments/s1/bbaf5a.align',\n",
              " 'data/alignments/s1/bbal6n.align',\n",
              " 'data/alignments/s1/bbal7s.align',\n",
              " 'data/alignments/s1/bbal8p.align',\n",
              " 'data/alignments/s1/bbal9a.align',\n",
              " 'data/alignments/s1/bbas1s.align',\n",
              " 'data/alignments/s1/bbas2p.align',\n",
              " 'data/alignments/s1/bbas3a.align',\n",
              " 'data/alignments/s1/bbaszn.align',\n",
              " 'data/alignments/s1/bbaz4n.align',\n",
              " 'data/alignments/s1/bbaz5s.align',\n",
              " 'data/alignments/s1/bbaz6p.align',\n",
              " 'data/alignments/s1/bbaz7a.align',\n",
              " 'data/alignments/s1/bbbf6n.align',\n",
              " 'data/alignments/s1/bbbf7s.align',\n",
              " 'data/alignments/s1/bbbf8p.align',\n",
              " 'data/alignments/s1/bbbf9a.align',\n",
              " 'data/alignments/s1/bbbm1s.align',\n",
              " 'data/alignments/s1/bbbm2p.align',\n",
              " 'data/alignments/s1/bbbm3a.align',\n",
              " 'data/alignments/s1/bbbmzn.align',\n",
              " 'data/alignments/s1/bbbs4n.align',\n",
              " 'data/alignments/s1/bbbs5s.align',\n",
              " 'data/alignments/s1/bbbs6p.align',\n",
              " 'data/alignments/s1/bbbs7a.align',\n",
              " 'data/alignments/s1/bbbz8n.align',\n",
              " 'data/alignments/s1/bbbz9s.align',\n",
              " 'data/alignments/s1/bbie8n.align',\n",
              " 'data/alignments/s1/bbie9s.align',\n",
              " 'data/alignments/s1/bbif1a.align',\n",
              " 'data/alignments/s1/bbifzp.align',\n",
              " 'data/alignments/s1/bbil2n.align',\n",
              " 'data/alignments/s1/bbil3s.align',\n",
              " 'data/alignments/s1/bbil4p.align',\n",
              " 'data/alignments/s1/bbil5a.align',\n",
              " 'data/alignments/s1/bbir6n.align',\n",
              " 'data/alignments/s1/bbir7s.align',\n",
              " 'data/alignments/s1/bbir8p.align',\n",
              " 'data/alignments/s1/bbir9a.align',\n",
              " 'data/alignments/s1/bbiz1s.align',\n",
              " 'data/alignments/s1/bbiz2p.align',\n",
              " 'data/alignments/s1/bbiz3a.align',\n",
              " 'data/alignments/s1/bbizzn.align',\n",
              " 'data/alignments/s1/bbwg1s.align',\n",
              " 'data/alignments/s1/bbwg2p.align',\n",
              " 'data/alignments/s1/bbwg3a.align',\n",
              " 'data/alignments/s1/bbwgzn.align',\n",
              " 'data/alignments/s1/bbwm4n.align',\n",
              " 'data/alignments/s1/bbwm5s.align',\n",
              " 'data/alignments/s1/bbwm6p.align',\n",
              " 'data/alignments/s1/bbwm7a.align',\n",
              " 'data/alignments/s1/bbws8n.align',\n",
              " 'data/alignments/s1/bbws9s.align',\n",
              " 'data/alignments/s1/bbwt1a.align',\n",
              " 'data/alignments/s1/bbwtzp.align',\n",
              " 'data/alignments/s1/bgaa6n.align',\n",
              " 'data/alignments/s1/bgaa7s.align',\n",
              " 'data/alignments/s1/bgaa8p.align',\n",
              " 'data/alignments/s1/bgaa9a.align',\n",
              " 'data/alignments/s1/bgah1s.align',\n",
              " 'data/alignments/s1/bgah2p.align',\n",
              " 'data/alignments/s1/bgah3a.align',\n",
              " 'data/alignments/s1/bgahzn.align',\n",
              " 'data/alignments/s1/bgan4n.align',\n",
              " 'data/alignments/s1/bgan5s.align',\n",
              " 'data/alignments/s1/bgan6p.align',\n",
              " 'data/alignments/s1/bgan7a.align',\n",
              " 'data/alignments/s1/bgat8n.align',\n",
              " 'data/alignments/s1/bgat9s.align',\n",
              " 'data/alignments/s1/bgau1a.align',\n",
              " 'data/alignments/s1/bgauzp.align',\n",
              " 'data/alignments/s1/bgbb1s.align',\n",
              " 'data/alignments/s1/bgbb2p.align',\n",
              " 'data/alignments/s1/bgbb3a.align',\n",
              " 'data/alignments/s1/bgbbzn.align',\n",
              " 'data/alignments/s1/bgbh4n.align',\n",
              " 'data/alignments/s1/bgbh5s.align',\n",
              " 'data/alignments/s1/bgbh6p.align',\n",
              " 'data/alignments/s1/bgbh7a.align',\n",
              " 'data/alignments/s1/bgbn8n.align',\n",
              " 'data/alignments/s1/bgbn9s.align',\n",
              " 'data/alignments/s1/bgbo1a.align',\n",
              " 'data/alignments/s1/bgbozp.align',\n",
              " 'data/alignments/s1/bgbu2n.align',\n",
              " 'data/alignments/s1/bgbu3s.align',\n",
              " 'data/alignments/s1/bgbu4p.align',\n",
              " 'data/alignments/s1/bgbu5a.align',\n",
              " 'data/alignments/s1/bgia2n.align',\n",
              " 'data/alignments/s1/bgia3s.align',\n",
              " 'data/alignments/s1/bgia4p.align',\n",
              " 'data/alignments/s1/bgia5a.align',\n",
              " 'data/alignments/s1/bgig6n.align',\n",
              " 'data/alignments/s1/bgig7s.align',\n",
              " 'data/alignments/s1/bgig8p.align',\n",
              " 'data/alignments/s1/bgig9a.align',\n",
              " 'data/alignments/s1/bgin1s.align',\n",
              " 'data/alignments/s1/bgin2p.align',\n",
              " 'data/alignments/s1/bgin3a.align',\n",
              " 'data/alignments/s1/bginzn.align',\n",
              " 'data/alignments/s1/bgit4n.align',\n",
              " 'data/alignments/s1/bgit5s.align',\n",
              " 'data/alignments/s1/bgit6p.align',\n",
              " 'data/alignments/s1/bgit7a.align',\n",
              " 'data/alignments/s1/bgwb4n.align',\n",
              " 'data/alignments/s1/bgwb5s.align',\n",
              " 'data/alignments/s1/bgwb6p.align',\n",
              " 'data/alignments/s1/bgwb7a.align',\n",
              " 'data/alignments/s1/bgwh8n.align',\n",
              " 'data/alignments/s1/bgwh9s.align',\n",
              " 'data/alignments/s1/bgwi1a.align',\n",
              " 'data/alignments/s1/bgwizp.align',\n",
              " 'data/alignments/s1/bgwo2n.align',\n",
              " 'data/alignments/s1/bgwo3s.align',\n",
              " 'data/alignments/s1/bgwo4p.align',\n",
              " 'data/alignments/s1/bgwo5a.align',\n",
              " 'data/alignments/s1/bgwu6n.align',\n",
              " 'data/alignments/s1/bgwu7s.align',\n",
              " 'data/alignments/s1/bgwu8p.align',\n",
              " 'data/alignments/s1/bgwu9a.align',\n",
              " 'data/alignments/s1/braf8n.align',\n",
              " 'data/alignments/s1/braf9s.align',\n",
              " 'data/alignments/s1/brag1a.align',\n",
              " 'data/alignments/s1/bragzp.align',\n",
              " 'data/alignments/s1/bram2n.align',\n",
              " 'data/alignments/s1/bram3s.align',\n",
              " 'data/alignments/s1/bram4p.align',\n",
              " 'data/alignments/s1/bram5a.align',\n",
              " 'data/alignments/s1/bras6n.align',\n",
              " 'data/alignments/s1/bras7s.align',\n",
              " 'data/alignments/s1/bras8p.align',\n",
              " 'data/alignments/s1/bras9a.align',\n",
              " 'data/alignments/s1/brba1a.align',\n",
              " 'data/alignments/s1/brbazp.align',\n",
              " 'data/alignments/s1/brbg2n.align',\n",
              " 'data/alignments/s1/brbg3s.align',\n",
              " 'data/alignments/s1/brbg4p.align',\n",
              " 'data/alignments/s1/brbg5a.align',\n",
              " 'data/alignments/s1/brbm6n.align',\n",
              " 'data/alignments/s1/brbm7s.align',\n",
              " 'data/alignments/s1/brbm8p.align',\n",
              " 'data/alignments/s1/brbm9a.align',\n",
              " 'data/alignments/s1/brbt1s.align',\n",
              " 'data/alignments/s1/brbt2p.align',\n",
              " 'data/alignments/s1/brbt3a.align',\n",
              " 'data/alignments/s1/brbtzn.align',\n",
              " 'data/alignments/s1/brif4n.align',\n",
              " 'data/alignments/s1/brif5s.align',\n",
              " 'data/alignments/s1/brif6p.align',\n",
              " 'data/alignments/s1/brif7a.align',\n",
              " 'data/alignments/s1/bril8n.align',\n",
              " 'data/alignments/s1/bril9s.align',\n",
              " 'data/alignments/s1/brim1a.align',\n",
              " 'data/alignments/s1/brimzp.align',\n",
              " 'data/alignments/s1/bris2n.align',\n",
              " 'data/alignments/s1/bris3s.align',\n",
              " 'data/alignments/s1/bris4p.align',\n",
              " 'data/alignments/s1/bris5a.align',\n",
              " 'data/alignments/s1/briz6n.align',\n",
              " 'data/alignments/s1/briz7s.align',\n",
              " 'data/alignments/s1/briz8p.align',\n",
              " 'data/alignments/s1/briz9a.align',\n",
              " 'data/alignments/s1/brwa2n.align',\n",
              " 'data/alignments/s1/brwa3s.align',\n",
              " 'data/alignments/s1/brwa4p.align',\n",
              " 'data/alignments/s1/brwa5a.align',\n",
              " 'data/alignments/s1/brwg6n.align',\n",
              " 'data/alignments/s1/brwg7s.align',\n",
              " 'data/alignments/s1/brwg8p.align',\n",
              " 'data/alignments/s1/brwg9a.align',\n",
              " 'data/alignments/s1/brwn1s.align',\n",
              " 'data/alignments/s1/brwn2p.align',\n",
              " 'data/alignments/s1/brwn3a.align',\n",
              " 'data/alignments/s1/brwnzn.align',\n",
              " 'data/alignments/s1/brwt4n.align',\n",
              " 'data/alignments/s1/brwt5s.align',\n",
              " 'data/alignments/s1/brwt6p.align',\n",
              " 'data/alignments/s1/brwt7a.align',\n",
              " 'data/alignments/s1/bwaa1s.align',\n",
              " 'data/alignments/s1/bwaa2p.align',\n",
              " 'data/alignments/s1/bwaa3a.align',\n",
              " 'data/alignments/s1/bwaazn.align',\n",
              " 'data/alignments/s1/bwag4n.align',\n",
              " 'data/alignments/s1/bwag5s.align',\n",
              " 'data/alignments/s1/bwag6p.align',\n",
              " 'data/alignments/s1/bwag7a.align',\n",
              " 'data/alignments/s1/bwam8n.align',\n",
              " 'data/alignments/s1/bwam9s.align',\n",
              " 'data/alignments/s1/bwan1a.align',\n",
              " 'data/alignments/s1/bwanzp.align',\n",
              " 'data/alignments/s1/bwat2n.align',\n",
              " 'data/alignments/s1/bwat3s.align',\n",
              " 'data/alignments/s1/bwat4p.align',\n",
              " 'data/alignments/s1/bwat5a.align',\n",
              " 'data/alignments/s1/bwba4n.align',\n",
              " 'data/alignments/s1/bwba5s.align',\n",
              " 'data/alignments/s1/bwba6p.align',\n",
              " 'data/alignments/s1/bwba7a.align',\n",
              " 'data/alignments/s1/bwbg8n.align',\n",
              " 'data/alignments/s1/bwbg9s.align',\n",
              " 'data/alignments/s1/bwbh1a.align',\n",
              " 'data/alignments/s1/bwbhzp.align',\n",
              " 'data/alignments/s1/bwbn2n.align',\n",
              " 'data/alignments/s1/bwbn3s.align',\n",
              " 'data/alignments/s1/bwbn4p.align',\n",
              " 'data/alignments/s1/bwbn5a.align',\n",
              " 'data/alignments/s1/bwbt6n.align',\n",
              " 'data/alignments/s1/bwbt7s.align',\n",
              " 'data/alignments/s1/bwbt8p.align',\n",
              " 'data/alignments/s1/bwbt9a.align',\n",
              " 'data/alignments/s1/bwig1s.align',\n",
              " 'data/alignments/s1/bwig2p.align',\n",
              " 'data/alignments/s1/bwig3a.align',\n",
              " 'data/alignments/s1/bwigzn.align',\n",
              " 'data/alignments/s1/bwim4n.align',\n",
              " 'data/alignments/s1/bwim5s.align',\n",
              " 'data/alignments/s1/bwim6p.align',\n",
              " 'data/alignments/s1/bwim7a.align',\n",
              " 'data/alignments/s1/bwis8n.align',\n",
              " 'data/alignments/s1/bwis9s.align',\n",
              " 'data/alignments/s1/bwit1a.align',\n",
              " 'data/alignments/s1/bwitzp.align',\n",
              " 'data/alignments/s1/bwwa8n.align',\n",
              " 'data/alignments/s1/bwwa9s.align',\n",
              " 'data/alignments/s1/bwwb1a.align',\n",
              " 'data/alignments/s1/bwwbzp.align',\n",
              " 'data/alignments/s1/bwwh2n.align',\n",
              " 'data/alignments/s1/bwwh3s.align',\n",
              " 'data/alignments/s1/bwwh4p.align',\n",
              " 'data/alignments/s1/bwwh5a.align',\n",
              " 'data/alignments/s1/bwwn6n.align',\n",
              " 'data/alignments/s1/bwwn7s.align',\n",
              " 'data/alignments/s1/bwwn8p.align',\n",
              " 'data/alignments/s1/bwwn9a.align',\n",
              " 'data/alignments/s1/bwwu1s.align',\n",
              " 'data/alignments/s1/bwwu2p.align',\n",
              " 'data/alignments/s1/bwwu3a.align',\n",
              " 'data/alignments/s1/bwwuzn.align',\n",
              " 'data/alignments/s1/lbad6n.align',\n",
              " 'data/alignments/s1/lbad7s.align',\n",
              " 'data/alignments/s1/lbad8p.align',\n",
              " 'data/alignments/s1/lbad9a.align',\n",
              " 'data/alignments/s1/lbak1s.align',\n",
              " 'data/alignments/s1/lbak2p.align',\n",
              " 'data/alignments/s1/lbak3a.align',\n",
              " 'data/alignments/s1/lbakzn.align',\n",
              " 'data/alignments/s1/lbaq4n.align',\n",
              " 'data/alignments/s1/lbaq5s.align',\n",
              " 'data/alignments/s1/lbaq6p.align',\n",
              " 'data/alignments/s1/lbaq7a.align',\n",
              " 'data/alignments/s1/lbax8n.align',\n",
              " 'data/alignments/s1/lbax9s.align',\n",
              " 'data/alignments/s1/lbay1a.align',\n",
              " 'data/alignments/s1/lbayzp.align',\n",
              " 'data/alignments/s1/lbbe1s.align',\n",
              " 'data/alignments/s1/lbbe2p.align',\n",
              " 'data/alignments/s1/lbbe3a.align',\n",
              " 'data/alignments/s1/lbbezn.align',\n",
              " 'data/alignments/s1/lbbk4n.align',\n",
              " 'data/alignments/s1/lbbk5s.align',\n",
              " 'data/alignments/s1/lbbk6p.align',\n",
              " 'data/alignments/s1/lbbk7a.align',\n",
              " 'data/alignments/s1/lbbq8n.align',\n",
              " 'data/alignments/s1/lbbq9s.align',\n",
              " 'data/alignments/s1/lbbr1a.align',\n",
              " 'data/alignments/s1/lbbrzp.align',\n",
              " 'data/alignments/s1/lbby2n.align',\n",
              " 'data/alignments/s1/lbby3s.align',\n",
              " 'data/alignments/s1/lbby4p.align',\n",
              " 'data/alignments/s1/lbby5a.align',\n",
              " 'data/alignments/s1/lbid2n.align',\n",
              " 'data/alignments/s1/lbid3s.align',\n",
              " 'data/alignments/s1/lbid4p.align',\n",
              " 'data/alignments/s1/lbid5a.align',\n",
              " 'data/alignments/s1/lbij6n.align',\n",
              " 'data/alignments/s1/lbij7s.align',\n",
              " 'data/alignments/s1/lbij8p.align',\n",
              " 'data/alignments/s1/lbij9a.align',\n",
              " 'data/alignments/s1/lbiq1s.align',\n",
              " 'data/alignments/s1/lbiq2p.align',\n",
              " 'data/alignments/s1/lbiq3a.align',\n",
              " 'data/alignments/s1/lbiqzn.align',\n",
              " 'data/alignments/s1/lbix4n.align',\n",
              " 'data/alignments/s1/lbix5s.align',\n",
              " 'data/alignments/s1/lbix6p.align',\n",
              " 'data/alignments/s1/lbix7a.align',\n",
              " 'data/alignments/s1/lbwe4n.align',\n",
              " 'data/alignments/s1/lbwe5s.align',\n",
              " 'data/alignments/s1/lbwe6p.align',\n",
              " 'data/alignments/s1/lbwe7a.align',\n",
              " 'data/alignments/s1/lbwk8n.align',\n",
              " 'data/alignments/s1/lbwk9s.align',\n",
              " 'data/alignments/s1/lbwl1a.align',\n",
              " 'data/alignments/s1/lbwlzp.align',\n",
              " 'data/alignments/s1/lbwr2n.align',\n",
              " 'data/alignments/s1/lbwr3s.align',\n",
              " 'data/alignments/s1/lbwr4p.align',\n",
              " 'data/alignments/s1/lbwr5a.align',\n",
              " 'data/alignments/s1/lbwy6n.align',\n",
              " 'data/alignments/s1/lbwy7s.align',\n",
              " 'data/alignments/s1/lbwy8p.align',\n",
              " 'data/alignments/s1/lbwy9a.align',\n",
              " 'data/alignments/s1/lgaf4n.align',\n",
              " 'data/alignments/s1/lgaf5s.align',\n",
              " 'data/alignments/s1/lgaf6p.align',\n",
              " 'data/alignments/s1/lgaf7a.align',\n",
              " 'data/alignments/s1/lgal8n.align',\n",
              " 'data/alignments/s1/lgal9s.align',\n",
              " 'data/alignments/s1/lgam1a.align',\n",
              " 'data/alignments/s1/lgamzp.align',\n",
              " 'data/alignments/s1/lgas2n.align',\n",
              " 'data/alignments/s1/lgas3s.align',\n",
              " 'data/alignments/s1/lgas4p.align',\n",
              " 'data/alignments/s1/lgas5a.align',\n",
              " 'data/alignments/s1/lgaz6n.align',\n",
              " 'data/alignments/s1/lgaz7s.align',\n",
              " 'data/alignments/s1/lgaz8p.align',\n",
              " 'data/alignments/s1/lgaz9a.align',\n",
              " 'data/alignments/s1/lgbf8n.align',\n",
              " 'data/alignments/s1/lgbf9s.align',\n",
              " 'data/alignments/s1/lgbg1a.align',\n",
              " 'data/alignments/s1/lgbgzp.align',\n",
              " 'data/alignments/s1/lgbm2n.align',\n",
              " 'data/alignments/s1/lgbm3s.align',\n",
              " 'data/alignments/s1/lgbm4p.align',\n",
              " 'data/alignments/s1/lgbm5a.align',\n",
              " 'data/alignments/s1/lgbs6n.align',\n",
              " 'data/alignments/s1/lgbs7s.align',\n",
              " 'data/alignments/s1/lgbs8p.align',\n",
              " 'data/alignments/s1/lgbs9a.align',\n",
              " 'data/alignments/s1/lgif1s.align',\n",
              " 'data/alignments/s1/lgif2p.align',\n",
              " 'data/alignments/s1/lgif3a.align',\n",
              " 'data/alignments/s1/lgifzn.align',\n",
              " 'data/alignments/s1/lgil4n.align',\n",
              " 'data/alignments/s1/lgil5s.align',\n",
              " 'data/alignments/s1/lgil6p.align',\n",
              " 'data/alignments/s1/lgil7a.align',\n",
              " 'data/alignments/s1/lgir8n.align',\n",
              " 'data/alignments/s1/lgir9s.align',\n",
              " 'data/alignments/s1/lgis1a.align',\n",
              " 'data/alignments/s1/lgiszp.align',\n",
              " 'data/alignments/s1/lgiz2n.align',\n",
              " 'data/alignments/s1/lgiz3s.align',\n",
              " 'data/alignments/s1/lgiz4p.align',\n",
              " 'data/alignments/s1/lgiz5a.align',\n",
              " 'data/alignments/s1/lgwa1a.align',\n",
              " 'data/alignments/s1/lgwazp.align',\n",
              " 'data/alignments/s1/lgwg2n.align',\n",
              " 'data/alignments/s1/lgwg3s.align',\n",
              " 'data/alignments/s1/lgwg4p.align',\n",
              " 'data/alignments/s1/lgwg5a.align',\n",
              " 'data/alignments/s1/lgwm6n.align',\n",
              " 'data/alignments/s1/lgwm7s.align',\n",
              " 'data/alignments/s1/lgwm8p.align',\n",
              " 'data/alignments/s1/lgwm9a.align',\n",
              " 'data/alignments/s1/lgwt1s.align',\n",
              " 'data/alignments/s1/lgwt2p.align',\n",
              " 'data/alignments/s1/lgwt3a.align',\n",
              " 'data/alignments/s1/lgwtzn.align',\n",
              " 'data/alignments/s1/lrae2n.align',\n",
              " 'data/alignments/s1/lrae3s.align',\n",
              " 'data/alignments/s1/lrae4p.align',\n",
              " 'data/alignments/s1/lrae5a.align',\n",
              " 'data/alignments/s1/lrak6n.align',\n",
              " 'data/alignments/s1/lrak7s.align',\n",
              " 'data/alignments/s1/lrak8p.align',\n",
              " 'data/alignments/s1/lrak9a.align',\n",
              " 'data/alignments/s1/lrar1s.align',\n",
              " 'data/alignments/s1/lrar2p.align',\n",
              " 'data/alignments/s1/lrar3a.align',\n",
              " 'data/alignments/s1/lrarzn.align',\n",
              " 'data/alignments/s1/lray4n.align',\n",
              " 'data/alignments/s1/lray5s.align',\n",
              " 'data/alignments/s1/lray6p.align',\n",
              " 'data/alignments/s1/lray7a.align',\n",
              " 'data/alignments/s1/lrbe6n.align',\n",
              " 'data/alignments/s1/lrbe7s.align',\n",
              " 'data/alignments/s1/lrbe8p.align',\n",
              " 'data/alignments/s1/lrbe9a.align',\n",
              " 'data/alignments/s1/lrbl1s.align',\n",
              " 'data/alignments/s1/lrbl2p.align',\n",
              " 'data/alignments/s1/lrbl3a.align',\n",
              " 'data/alignments/s1/lrblzn.align',\n",
              " 'data/alignments/s1/lrbr4n.align',\n",
              " 'data/alignments/s1/lrbr5s.align',\n",
              " 'data/alignments/s1/lrbr6p.align',\n",
              " 'data/alignments/s1/lrbr7a.align',\n",
              " 'data/alignments/s1/lrby8n.align',\n",
              " 'data/alignments/s1/lrby9s.align',\n",
              " 'data/alignments/s1/lrbz1a.align',\n",
              " 'data/alignments/s1/lrbzzp.align',\n",
              " 'data/alignments/s1/lrid8n.align',\n",
              " 'data/alignments/s1/lrid9s.align',\n",
              " 'data/alignments/s1/lrie1a.align',\n",
              " 'data/alignments/s1/lriezp.align',\n",
              " 'data/alignments/s1/lrik2n.align',\n",
              " 'data/alignments/s1/lrik3s.align',\n",
              " 'data/alignments/s1/lrik4p.align',\n",
              " 'data/alignments/s1/lrik5a.align',\n",
              " 'data/alignments/s1/lriq6n.align',\n",
              " 'data/alignments/s1/lriq7s.align',\n",
              " 'data/alignments/s1/lriq8p.align',\n",
              " 'data/alignments/s1/lriq9a.align',\n",
              " 'data/alignments/s1/lriy1s.align',\n",
              " 'data/alignments/s1/lriy2p.align',\n",
              " 'data/alignments/s1/lriy3a.align',\n",
              " 'data/alignments/s1/lriyzn.align',\n",
              " 'data/alignments/s1/lrwf1s.align',\n",
              " 'data/alignments/s1/lrwf2p.align',\n",
              " 'data/alignments/s1/lrwf3a.align',\n",
              " 'data/alignments/s1/lrwfzn.align',\n",
              " 'data/alignments/s1/lrwl4n.align',\n",
              " 'data/alignments/s1/lrwl5s.align',\n",
              " 'data/alignments/s1/lrwl6p.align',\n",
              " 'data/alignments/s1/lrwl7a.align',\n",
              " 'data/alignments/s1/lrwr8n.align',\n",
              " 'data/alignments/s1/lrwr9s.align',\n",
              " 'data/alignments/s1/lrws1a.align',\n",
              " 'data/alignments/s1/lrwszp.align',\n",
              " 'data/alignments/s1/lrwz2n.align',\n",
              " 'data/alignments/s1/lrwz3s.align',\n",
              " 'data/alignments/s1/lrwz4p.align',\n",
              " 'data/alignments/s1/lrwz5a.align',\n",
              " 'data/alignments/s1/lwae8n.align',\n",
              " 'data/alignments/s1/lwae9s.align',\n",
              " 'data/alignments/s1/lwaf1a.align',\n",
              " 'data/alignments/s1/lwafzp.align',\n",
              " 'data/alignments/s1/lwal2n.align',\n",
              " 'data/alignments/s1/lwal3s.align',\n",
              " 'data/alignments/s1/lwal4p.align',\n",
              " 'data/alignments/s1/lwal5a.align',\n",
              " 'data/alignments/s1/lwar6n.align',\n",
              " 'data/alignments/s1/lwar7s.align',\n",
              " 'data/alignments/s1/lwar8p.align',\n",
              " 'data/alignments/s1/lwar9a.align',\n",
              " 'data/alignments/s1/lwaz1s.align',\n",
              " 'data/alignments/s1/lwaz2p.align',\n",
              " 'data/alignments/s1/lwaz3a.align',\n",
              " 'data/alignments/s1/lwazzn.align',\n",
              " 'data/alignments/s1/lwbf2n.align',\n",
              " 'data/alignments/s1/lwbf3s.align',\n",
              " 'data/alignments/s1/lwbf4p.align',\n",
              " 'data/alignments/s1/lwbf5a.align',\n",
              " 'data/alignments/s1/lwbl6n.align',\n",
              " 'data/alignments/s1/lwbl7s.align',\n",
              " 'data/alignments/s1/lwbl8p.align',\n",
              " 'data/alignments/s1/lwbl9a.align',\n",
              " 'data/alignments/s1/lwbs1s.align',\n",
              " 'data/alignments/s1/lwbs2p.align',\n",
              " 'data/alignments/s1/lwbs3a.align',\n",
              " 'data/alignments/s1/lwbszn.align',\n",
              " 'data/alignments/s1/lwbz4n.align',\n",
              " 'data/alignments/s1/lwbz5s.align',\n",
              " 'data/alignments/s1/lwbz6p.align',\n",
              " 'data/alignments/s1/lwbz7a.align',\n",
              " 'data/alignments/s1/lwie4n.align',\n",
              " 'data/alignments/s1/lwie5s.align',\n",
              " 'data/alignments/s1/lwie6p.align',\n",
              " 'data/alignments/s1/lwie7a.align',\n",
              " 'data/alignments/s1/lwik8n.align',\n",
              " 'data/alignments/s1/lwik9s.align',\n",
              " 'data/alignments/s1/lwil1a.align',\n",
              " 'data/alignments/s1/lwilzp.align',\n",
              " 'data/alignments/s1/lwir2n.align',\n",
              " 'data/alignments/s1/lwir3s.align',\n",
              " 'data/alignments/s1/lwir4p.align',\n",
              " 'data/alignments/s1/lwir5a.align',\n",
              " 'data/alignments/s1/lwiy6n.align',\n",
              " 'data/alignments/s1/lwiy7s.align',\n",
              " 'data/alignments/s1/lwiy8p.align',\n",
              " 'data/alignments/s1/lwiy9a.align',\n",
              " 'data/alignments/s1/lwwf6n.align',\n",
              " 'data/alignments/s1/lwwf7s.align',\n",
              " 'data/alignments/s1/lwwf8p.align',\n",
              " 'data/alignments/s1/lwwf9a.align',\n",
              " 'data/alignments/s1/lwwm1s.align',\n",
              " 'data/alignments/s1/lwwm2p.align',\n",
              " 'data/alignments/s1/lwwm3a.align',\n",
              " 'data/alignments/s1/lwwmzn.align',\n",
              " 'data/alignments/s1/lwws4n.align',\n",
              " 'data/alignments/s1/lwws5s.align',\n",
              " 'data/alignments/s1/lwws6p.align',\n",
              " 'data/alignments/s1/lwws7a.align',\n",
              " 'data/alignments/s1/lwwz8n.align',\n",
              " 'data/alignments/s1/lwwz9s.align',\n",
              " 'data/alignments/s1/pbac1s.align',\n",
              " 'data/alignments/s1/pbac2p.align',\n",
              " 'data/alignments/s1/pbac3a.align',\n",
              " 'data/alignments/s1/pbaczn.align',\n",
              " 'data/alignments/s1/pbai4n.align',\n",
              " 'data/alignments/s1/pbai5s.align',\n",
              " 'data/alignments/s1/pbai6p.align',\n",
              " 'data/alignments/s1/pbai7a.align',\n",
              " 'data/alignments/s1/pbao8n.align',\n",
              " 'data/alignments/s1/pbao9s.align',\n",
              " 'data/alignments/s1/pbap1a.align',\n",
              " 'data/alignments/s1/pbapzp.align',\n",
              " 'data/alignments/s1/pbav2n.align',\n",
              " 'data/alignments/s1/pbav3s.align',\n",
              " 'data/alignments/s1/pbav4p.align',\n",
              " 'data/alignments/s1/pbav5a.align',\n",
              " 'data/alignments/s1/pbbc4n.align',\n",
              " 'data/alignments/s1/pbbc5s.align',\n",
              " 'data/alignments/s1/pbbc6p.align',\n",
              " 'data/alignments/s1/pbbc7a.align',\n",
              " 'data/alignments/s1/pbbi8n.align',\n",
              " 'data/alignments/s1/pbbi9s.align',\n",
              " 'data/alignments/s1/pbbj1a.align',\n",
              " 'data/alignments/s1/pbbjzp.align',\n",
              " 'data/alignments/s1/pbbp2n.align',\n",
              " 'data/alignments/s1/pbbp3s.align',\n",
              " 'data/alignments/s1/pbbp4p.align',\n",
              " 'data/alignments/s1/pbbp5a.align',\n",
              " 'data/alignments/s1/pbbv6n.align',\n",
              " 'data/alignments/s1/pbbv7s.align',\n",
              " 'data/alignments/s1/pbbv8p.align',\n",
              " 'data/alignments/s1/pbbv9a.align',\n",
              " 'data/alignments/s1/pbib6n.align',\n",
              " 'data/alignments/s1/pbib7s.align',\n",
              " 'data/alignments/s1/pbib8p.align',\n",
              " 'data/alignments/s1/pbib9a.align',\n",
              " 'data/alignments/s1/pbii1s.align',\n",
              " 'data/alignments/s1/pbii2p.align',\n",
              " 'data/alignments/s1/pbii3a.align',\n",
              " 'data/alignments/s1/pbiizn.align',\n",
              " 'data/alignments/s1/pbio4n.align',\n",
              " 'data/alignments/s1/pbio5s.align',\n",
              " 'data/alignments/s1/pbio6p.align',\n",
              " 'data/alignments/s1/pbio7a.align',\n",
              " 'data/alignments/s1/pbiu8n.align',\n",
              " 'data/alignments/s1/pbiu9s.align',\n",
              " 'data/alignments/s1/pbiv1a.align',\n",
              " 'data/alignments/s1/pbivzp.align',\n",
              " 'data/alignments/s1/pbwc8n.align',\n",
              " 'data/alignments/s1/pbwc9s.align',\n",
              " 'data/alignments/s1/pbwd1a.align',\n",
              " 'data/alignments/s1/pbwdzp.align',\n",
              " 'data/alignments/s1/pbwj2n.align',\n",
              " 'data/alignments/s1/pbwj3s.align',\n",
              " 'data/alignments/s1/pbwj4p.align',\n",
              " 'data/alignments/s1/pbwj5a.align',\n",
              " 'data/alignments/s1/pbwp6n.align',\n",
              " 'data/alignments/s1/pbwp7s.align',\n",
              " 'data/alignments/s1/pbwp8p.align',\n",
              " 'data/alignments/s1/pbwp9a.align',\n",
              " 'data/alignments/s1/pbwx1s.align',\n",
              " 'data/alignments/s1/pbwx2p.align',\n",
              " 'data/alignments/s1/pbwx3a.align',\n",
              " 'data/alignments/s1/pbwxzn.align',\n",
              " 'data/alignments/s1/pgad8n.align',\n",
              " 'data/alignments/s1/pgad9s.align',\n",
              " 'data/alignments/s1/pgae1a.align',\n",
              " 'data/alignments/s1/pgaezp.align',\n",
              " 'data/alignments/s1/pgak2n.align',\n",
              " 'data/alignments/s1/pgak3s.align',\n",
              " 'data/alignments/s1/pgak4p.align',\n",
              " 'data/alignments/s1/pgak5a.align',\n",
              " 'data/alignments/s1/pgaq6n.align',\n",
              " 'data/alignments/s1/pgaq7s.align',\n",
              " 'data/alignments/s1/pgaq8p.align',\n",
              " 'data/alignments/s1/pgaq9a.align',\n",
              " 'data/alignments/s1/pgay1s.align',\n",
              " 'data/alignments/s1/pgay2p.align',\n",
              " 'data/alignments/s1/pgay3a.align',\n",
              " 'data/alignments/s1/pgayzn.align',\n",
              " 'data/alignments/s1/pgbe2n.align',\n",
              " 'data/alignments/s1/pgbe3s.align',\n",
              " 'data/alignments/s1/pgbe4p.align',\n",
              " 'data/alignments/s1/pgbe5a.align',\n",
              " 'data/alignments/s1/pgbk6n.align',\n",
              " 'data/alignments/s1/pgbk7s.align',\n",
              " 'data/alignments/s1/pgbk8p.align',\n",
              " 'data/alignments/s1/pgbk9a.align',\n",
              " 'data/alignments/s1/pgbr1s.align',\n",
              " 'data/alignments/s1/pgbr2p.align',\n",
              " 'data/alignments/s1/pgbr3a.align',\n",
              " 'data/alignments/s1/pgbrzn.align',\n",
              " 'data/alignments/s1/pgby4n.align',\n",
              " 'data/alignments/s1/pgby5s.align',\n",
              " 'data/alignments/s1/pgby6p.align',\n",
              " 'data/alignments/s1/pgby7a.align',\n",
              " 'data/alignments/s1/pgid4n.align',\n",
              " 'data/alignments/s1/pgid5s.align',\n",
              " 'data/alignments/s1/pgid6p.align',\n",
              " 'data/alignments/s1/pgid7a.align',\n",
              " 'data/alignments/s1/pgij8n.align',\n",
              " 'data/alignments/s1/pgij9s.align',\n",
              " 'data/alignments/s1/pgik1a.align',\n",
              " 'data/alignments/s1/pgikzp.align',\n",
              " 'data/alignments/s1/pgiq2n.align',\n",
              " 'data/alignments/s1/pgiq3s.align',\n",
              " 'data/alignments/s1/pgiq4p.align',\n",
              " 'data/alignments/s1/pgiq5a.align',\n",
              " 'data/alignments/s1/pgix6n.align',\n",
              " 'data/alignments/s1/pgix7s.align',\n",
              " 'data/alignments/s1/pgix8p.align',\n",
              " 'data/alignments/s1/pgix9a.align',\n",
              " 'data/alignments/s1/pgwe6n.align',\n",
              " 'data/alignments/s1/pgwe7s.align',\n",
              " 'data/alignments/s1/pgwe8p.align',\n",
              " 'data/alignments/s1/pgwe9a.align',\n",
              " 'data/alignments/s1/pgwl1s.align',\n",
              " 'data/alignments/s1/pgwl2p.align',\n",
              " 'data/alignments/s1/pgwl3a.align',\n",
              " 'data/alignments/s1/pgwlzn.align',\n",
              " 'data/alignments/s1/pgwr4n.align',\n",
              " 'data/alignments/s1/pgwr5s.align',\n",
              " 'data/alignments/s1/pgwr6p.align',\n",
              " 'data/alignments/s1/pgwr7a.align',\n",
              " 'data/alignments/s1/pgwy8n.align',\n",
              " 'data/alignments/s1/pgwy9s.align',\n",
              " 'data/alignments/s1/pgwz1a.align',\n",
              " 'data/alignments/s1/pgwzzp.align',\n",
              " 'data/alignments/s1/prac6n.align',\n",
              " 'data/alignments/s1/prac7s.align',\n",
              " 'data/alignments/s1/prac8p.align',\n",
              " 'data/alignments/s1/prac9a.align',\n",
              " 'data/alignments/s1/praj1s.align',\n",
              " 'data/alignments/s1/praj2p.align',\n",
              " 'data/alignments/s1/praj3a.align',\n",
              " 'data/alignments/s1/prajzn.align',\n",
              " 'data/alignments/s1/prap4n.align',\n",
              " 'data/alignments/s1/prap5s.align',\n",
              " 'data/alignments/s1/prap6p.align',\n",
              " 'data/alignments/s1/prap7a.align',\n",
              " 'data/alignments/s1/prav8n.align',\n",
              " 'data/alignments/s1/prav9s.align',\n",
              " 'data/alignments/s1/prax1a.align',\n",
              " 'data/alignments/s1/praxzp.align',\n",
              " 'data/alignments/s1/prbd1s.align',\n",
              " 'data/alignments/s1/prbd2p.align',\n",
              " 'data/alignments/s1/prbd3a.align',\n",
              " 'data/alignments/s1/prbdzn.align',\n",
              " 'data/alignments/s1/prbj4n.align',\n",
              " 'data/alignments/s1/prbj5s.align',\n",
              " 'data/alignments/s1/prbj6p.align',\n",
              " 'data/alignments/s1/prbj7a.align',\n",
              " 'data/alignments/s1/prbp8n.align',\n",
              " 'data/alignments/s1/prbp9s.align',\n",
              " 'data/alignments/s1/prbq1a.align',\n",
              " 'data/alignments/s1/prbqzp.align',\n",
              " 'data/alignments/s1/prbx2n.align',\n",
              " 'data/alignments/s1/prbx3s.align',\n",
              " 'data/alignments/s1/prbx4p.align',\n",
              " 'data/alignments/s1/prbx5a.align',\n",
              " 'data/alignments/s1/pric2n.align',\n",
              " 'data/alignments/s1/pric3s.align',\n",
              " 'data/alignments/s1/pric4p.align',\n",
              " 'data/alignments/s1/pric5a.align',\n",
              " 'data/alignments/s1/prii6n.align',\n",
              " 'data/alignments/s1/prii7s.align',\n",
              " 'data/alignments/s1/prii8p.align',\n",
              " 'data/alignments/s1/prii9a.align',\n",
              " 'data/alignments/s1/prip1s.align',\n",
              " 'data/alignments/s1/prip2p.align',\n",
              " 'data/alignments/s1/prip3a.align',\n",
              " 'data/alignments/s1/pripzn.align',\n",
              " 'data/alignments/s1/priv4n.align',\n",
              " 'data/alignments/s1/priv5s.align',\n",
              " 'data/alignments/s1/priv6p.align',\n",
              " 'data/alignments/s1/priv7a.align',\n",
              " 'data/alignments/s1/prwd4n.align',\n",
              " 'data/alignments/s1/prwd5s.align',\n",
              " 'data/alignments/s1/prwd6p.align',\n",
              " 'data/alignments/s1/prwd7a.align',\n",
              " 'data/alignments/s1/prwj8n.align',\n",
              " 'data/alignments/s1/prwj9s.align',\n",
              " 'data/alignments/s1/prwk1a.align',\n",
              " 'data/alignments/s1/prwkzp.align',\n",
              " 'data/alignments/s1/prwq2n.align',\n",
              " 'data/alignments/s1/prwq3s.align',\n",
              " 'data/alignments/s1/prwq4p.align',\n",
              " 'data/alignments/s1/prwq5a.align',\n",
              " 'data/alignments/s1/prwx6n.align',\n",
              " 'data/alignments/s1/prwx7s.align',\n",
              " 'data/alignments/s1/prwx8p.align',\n",
              " 'data/alignments/s1/prwx9a.align',\n",
              " 'data/alignments/s1/pwad2n.align',\n",
              " 'data/alignments/s1/pwad3s.align',\n",
              " 'data/alignments/s1/pwad4p.align',\n",
              " 'data/alignments/s1/pwad5a.align',\n",
              " 'data/alignments/s1/pwaj6n.align',\n",
              " 'data/alignments/s1/pwaj7s.align',\n",
              " 'data/alignments/s1/pwaj8p.align',\n",
              " 'data/alignments/s1/pwaj9a.align',\n",
              " 'data/alignments/s1/pwaq1s.align',\n",
              " 'data/alignments/s1/pwaq2p.align',\n",
              " 'data/alignments/s1/pwaq3a.align',\n",
              " 'data/alignments/s1/pwaqzn.align',\n",
              " 'data/alignments/s1/pwax4n.align',\n",
              " 'data/alignments/s1/pwax5s.align',\n",
              " 'data/alignments/s1/pwax6p.align',\n",
              " 'data/alignments/s1/pwax7a.align',\n",
              " 'data/alignments/s1/pwbd6n.align',\n",
              " 'data/alignments/s1/pwbd7s.align',\n",
              " 'data/alignments/s1/pwbd8p.align',\n",
              " 'data/alignments/s1/pwbd9a.align',\n",
              " 'data/alignments/s1/pwbk1s.align',\n",
              " 'data/alignments/s1/pwbk2p.align',\n",
              " 'data/alignments/s1/pwbk3a.align',\n",
              " 'data/alignments/s1/pwbkzn.align',\n",
              " 'data/alignments/s1/pwbq4n.align',\n",
              " 'data/alignments/s1/pwbq5s.align',\n",
              " 'data/alignments/s1/pwbq6p.align',\n",
              " 'data/alignments/s1/pwbq7a.align',\n",
              " 'data/alignments/s1/pwbx8n.align',\n",
              " 'data/alignments/s1/pwbx9s.align',\n",
              " 'data/alignments/s1/pwby1a.align',\n",
              " 'data/alignments/s1/pwbyzp.align',\n",
              " 'data/alignments/s1/pwic8n.align',\n",
              " 'data/alignments/s1/pwic9s.align',\n",
              " 'data/alignments/s1/pwid1a.align',\n",
              " 'data/alignments/s1/pwidzp.align',\n",
              " 'data/alignments/s1/pwij2n.align',\n",
              " 'data/alignments/s1/pwij3s.align',\n",
              " 'data/alignments/s1/pwij4p.align',\n",
              " 'data/alignments/s1/pwij5a.align',\n",
              " 'data/alignments/s1/pwip6n.align',\n",
              " 'data/alignments/s1/pwip7s.align',\n",
              " 'data/alignments/s1/pwip8p.align',\n",
              " 'data/alignments/s1/pwip9a.align',\n",
              " 'data/alignments/s1/pwix1s.align',\n",
              " 'data/alignments/s1/pwix2p.align',\n",
              " 'data/alignments/s1/pwix3a.align',\n",
              " 'data/alignments/s1/pwixzn.align',\n",
              " 'data/alignments/s1/pwwe1s.align',\n",
              " 'data/alignments/s1/pwwe2p.align',\n",
              " 'data/alignments/s1/pwwe3a.align',\n",
              " 'data/alignments/s1/pwwezn.align',\n",
              " 'data/alignments/s1/pwwk4n.align',\n",
              " 'data/alignments/s1/pwwk5s.align',\n",
              " 'data/alignments/s1/pwwk6p.align',\n",
              " 'data/alignments/s1/pwwk7a.align',\n",
              " 'data/alignments/s1/pwwq8n.align',\n",
              " 'data/alignments/s1/pwwq9s.align',\n",
              " 'data/alignments/s1/pwwr1a.align',\n",
              " 'data/alignments/s1/pwwrzp.align',\n",
              " 'data/alignments/s1/pwwy2n.align',\n",
              " 'data/alignments/s1/pwwy3s.align',\n",
              " 'data/alignments/s1/pwwy4p.align',\n",
              " 'data/alignments/s1/pwwy5a.align',\n",
              " 'data/alignments/s1/sbaa4n.align',\n",
              " 'data/alignments/s1/sbaa5s.align',\n",
              " 'data/alignments/s1/sbaa6p.align',\n",
              " 'data/alignments/s1/sbaa7a.align',\n",
              " 'data/alignments/s1/sbag8n.align',\n",
              " 'data/alignments/s1/sbag9s.align',\n",
              " 'data/alignments/s1/sbah1a.align',\n",
              " 'data/alignments/s1/sbahzp.align',\n",
              " 'data/alignments/s1/sban2n.align',\n",
              " 'data/alignments/s1/sban3s.align',\n",
              " 'data/alignments/s1/sban4p.align',\n",
              " 'data/alignments/s1/sban5a.align',\n",
              " 'data/alignments/s1/sbat6n.align',\n",
              " 'data/alignments/s1/sbat7s.align',\n",
              " 'data/alignments/s1/sbat8p.align',\n",
              " 'data/alignments/s1/sbat9a.align',\n",
              " 'data/alignments/s1/sbba8n.align',\n",
              " 'data/alignments/s1/sbba9s.align',\n",
              " 'data/alignments/s1/sbbb1a.align',\n",
              " 'data/alignments/s1/sbbbzp.align',\n",
              " 'data/alignments/s1/sbbh2n.align',\n",
              " 'data/alignments/s1/sbbh3s.align',\n",
              " 'data/alignments/s1/sbbh4p.align',\n",
              " 'data/alignments/s1/sbbh5a.align',\n",
              " 'data/alignments/s1/sbbn6n.align',\n",
              " 'data/alignments/s1/sbbn7s.align',\n",
              " 'data/alignments/s1/sbbn8p.align',\n",
              " 'data/alignments/s1/sbbn9a.align',\n",
              " 'data/alignments/s1/sbbu1s.align',\n",
              " 'data/alignments/s1/sbbu2p.align',\n",
              " 'data/alignments/s1/sbbu3a.align',\n",
              " 'data/alignments/s1/sbbuzn.align',\n",
              " 'data/alignments/s1/sbia1s.align',\n",
              " 'data/alignments/s1/sbia2p.align',\n",
              " 'data/alignments/s1/sbia3a.align',\n",
              " 'data/alignments/s1/sbiazn.align',\n",
              " 'data/alignments/s1/sbig4n.align',\n",
              " 'data/alignments/s1/sbig5s.align',\n",
              " 'data/alignments/s1/sbig6p.align',\n",
              " 'data/alignments/s1/sbig7a.align',\n",
              " 'data/alignments/s1/sbim8n.align',\n",
              " 'data/alignments/s1/sbim9s.align',\n",
              " 'data/alignments/s1/sbin1a.align',\n",
              " 'data/alignments/s1/sbinzp.align',\n",
              " 'data/alignments/s1/sbit2n.align',\n",
              " 'data/alignments/s1/sbit3s.align',\n",
              " 'data/alignments/s1/sbit4p.align',\n",
              " 'data/alignments/s1/sbit5a.align',\n",
              " 'data/alignments/s1/sbwb2n.align',\n",
              " 'data/alignments/s1/sbwb3s.align',\n",
              " 'data/alignments/s1/sbwb4p.align',\n",
              " 'data/alignments/s1/sbwb5a.align',\n",
              " 'data/alignments/s1/sbwh6n.align',\n",
              " 'data/alignments/s1/sbwh7s.align',\n",
              " 'data/alignments/s1/sbwh8p.align',\n",
              " 'data/alignments/s1/sbwh9a.align',\n",
              " 'data/alignments/s1/sbwo1s.align',\n",
              " 'data/alignments/s1/sbwo2p.align',\n",
              " 'data/alignments/s1/sbwo3a.align',\n",
              " 'data/alignments/s1/sbwozn.align',\n",
              " 'data/alignments/s1/sbwu4n.align',\n",
              " 'data/alignments/s1/sbwu5s.align',\n",
              " 'data/alignments/s1/sbwu6p.align',\n",
              " 'data/alignments/s1/sbwu7a.align',\n",
              " 'data/alignments/s1/sgac2n.align',\n",
              " 'data/alignments/s1/sgac3s.align',\n",
              " 'data/alignments/s1/sgac4p.align',\n",
              " 'data/alignments/s1/sgac5a.align',\n",
              " 'data/alignments/s1/sgai6n.align',\n",
              " 'data/alignments/s1/sgai7s.align',\n",
              " 'data/alignments/s1/sgai8p.align',\n",
              " 'data/alignments/s1/sgai9a.align',\n",
              " 'data/alignments/s1/sgap1s.align',\n",
              " 'data/alignments/s1/sgap2p.align',\n",
              " 'data/alignments/s1/sgap3a.align',\n",
              " 'data/alignments/s1/sgapzn.align',\n",
              " 'data/alignments/s1/sgav4n.align',\n",
              " 'data/alignments/s1/sgav5s.align',\n",
              " 'data/alignments/s1/sgav6p.align',\n",
              " 'data/alignments/s1/sgav7a.align',\n",
              " 'data/alignments/s1/sgbc6n.align',\n",
              " 'data/alignments/s1/sgbc7s.align',\n",
              " 'data/alignments/s1/sgbc8p.align',\n",
              " 'data/alignments/s1/sgbc9a.align',\n",
              " 'data/alignments/s1/sgbj1s.align',\n",
              " 'data/alignments/s1/sgbj2p.align',\n",
              " 'data/alignments/s1/sgbj3a.align',\n",
              " 'data/alignments/s1/sgbjzn.align',\n",
              " 'data/alignments/s1/sgbp4n.align',\n",
              " 'data/alignments/s1/sgbp5s.align',\n",
              " 'data/alignments/s1/sgbp6p.align',\n",
              " 'data/alignments/s1/sgbp7a.align',\n",
              " 'data/alignments/s1/sgbv8n.align',\n",
              " 'data/alignments/s1/sgbv9s.align',\n",
              " 'data/alignments/s1/sgbx1a.align',\n",
              " 'data/alignments/s1/sgbxzp.align',\n",
              " 'data/alignments/s1/sgib8n.align',\n",
              " 'data/alignments/s1/sgib9s.align',\n",
              " 'data/alignments/s1/sgic1a.align',\n",
              " 'data/alignments/s1/sgiczp.align',\n",
              " 'data/alignments/s1/sgii2n.align',\n",
              " 'data/alignments/s1/sgii3s.align',\n",
              " 'data/alignments/s1/sgii4p.align',\n",
              " 'data/alignments/s1/sgii5a.align',\n",
              " 'data/alignments/s1/sgio6n.align',\n",
              " 'data/alignments/s1/sgio7s.align',\n",
              " 'data/alignments/s1/sgio8p.align',\n",
              " 'data/alignments/s1/sgio9a.align',\n",
              " 'data/alignments/s1/sgiv1s.align',\n",
              " 'data/alignments/s1/sgiv2p.align',\n",
              " 'data/alignments/s1/sgiv3a.align',\n",
              " 'data/alignments/s1/sgivzn.align',\n",
              " 'data/alignments/s1/sgwd1s.align',\n",
              " 'data/alignments/s1/sgwd2p.align',\n",
              " 'data/alignments/s1/sgwd3a.align',\n",
              " 'data/alignments/s1/sgwdzn.align',\n",
              " 'data/alignments/s1/sgwj4n.align',\n",
              " 'data/alignments/s1/sgwj5s.align',\n",
              " 'data/alignments/s1/sgwj6p.align',\n",
              " 'data/alignments/s1/sgwj7a.align',\n",
              " 'data/alignments/s1/sgwp8n.align',\n",
              " 'data/alignments/s1/sgwp9s.align',\n",
              " 'data/alignments/s1/sgwq1a.align',\n",
              " 'data/alignments/s1/sgwqzp.align',\n",
              " 'data/alignments/s1/sgwx2n.align',\n",
              " 'data/alignments/s1/sgwx3s.align',\n",
              " 'data/alignments/s1/sgwx4p.align',\n",
              " 'data/alignments/s1/sgwx5a.align',\n",
              " 'data/alignments/s1/srab1s.align',\n",
              " 'data/alignments/s1/srab2p.align',\n",
              " 'data/alignments/s1/srab3a.align',\n",
              " 'data/alignments/s1/srabzn.align',\n",
              " 'data/alignments/s1/srah4n.align',\n",
              " 'data/alignments/s1/srah5s.align',\n",
              " 'data/alignments/s1/srah6p.align',\n",
              " 'data/alignments/s1/srah7a.align',\n",
              " 'data/alignments/s1/sran8n.align',\n",
              " 'data/alignments/s1/sran9s.align',\n",
              " 'data/alignments/s1/srao1a.align',\n",
              " 'data/alignments/s1/sraozp.align',\n",
              " 'data/alignments/s1/srau2n.align',\n",
              " 'data/alignments/s1/srau3s.align',\n",
              " 'data/alignments/s1/srau4p.align',\n",
              " 'data/alignments/s1/srau5a.align',\n",
              " 'data/alignments/s1/srbb4n.align',\n",
              " 'data/alignments/s1/srbb5s.align',\n",
              " 'data/alignments/s1/srbb6p.align',\n",
              " 'data/alignments/s1/srbb7a.align',\n",
              " 'data/alignments/s1/srbh8n.align',\n",
              " 'data/alignments/s1/srbh9s.align',\n",
              " 'data/alignments/s1/srbi1a.align',\n",
              " 'data/alignments/s1/srbizp.align',\n",
              " 'data/alignments/s1/srbo2n.align',\n",
              " 'data/alignments/s1/srbo3s.align',\n",
              " 'data/alignments/s1/srbo4p.align',\n",
              " 'data/alignments/s1/srbo5a.align',\n",
              " 'data/alignments/s1/srbu6n.align',\n",
              " 'data/alignments/s1/srbu7s.align',\n",
              " 'data/alignments/s1/srbu8p.align',\n",
              " 'data/alignments/s1/srbu9a.align',\n",
              " 'data/alignments/s1/sria6n.align',\n",
              " 'data/alignments/s1/sria7s.align',\n",
              " 'data/alignments/s1/sria8p.align',\n",
              " 'data/alignments/s1/sria9a.align',\n",
              " 'data/alignments/s1/srih1s.align',\n",
              " 'data/alignments/s1/srih2p.align',\n",
              " 'data/alignments/s1/srih3a.align',\n",
              " 'data/alignments/s1/srihzn.align',\n",
              " 'data/alignments/s1/srin4n.align',\n",
              " 'data/alignments/s1/srin5s.align',\n",
              " 'data/alignments/s1/srin6p.align',\n",
              " 'data/alignments/s1/srin7a.align',\n",
              " 'data/alignments/s1/srit8n.align',\n",
              " 'data/alignments/s1/srit9s.align',\n",
              " 'data/alignments/s1/sriu1a.align',\n",
              " 'data/alignments/s1/sriuzp.align',\n",
              " 'data/alignments/s1/srwb8n.align',\n",
              " 'data/alignments/s1/srwb9s.align',\n",
              " 'data/alignments/s1/srwc1a.align',\n",
              " 'data/alignments/s1/srwczp.align',\n",
              " 'data/alignments/s1/srwi2n.align',\n",
              " 'data/alignments/s1/srwi3s.align',\n",
              " 'data/alignments/s1/srwi4p.align',\n",
              " 'data/alignments/s1/srwi5a.align',\n",
              " 'data/alignments/s1/srwo6n.align',\n",
              " 'data/alignments/s1/srwo7s.align',\n",
              " 'data/alignments/s1/srwo8p.align',\n",
              " 'data/alignments/s1/srwo9a.align',\n",
              " 'data/alignments/s1/srwv1s.align',\n",
              " 'data/alignments/s1/srwv2p.align',\n",
              " 'data/alignments/s1/srwv3a.align',\n",
              " 'data/alignments/s1/srwvzn.align',\n",
              " 'data/alignments/s1/swab6n.align',\n",
              " 'data/alignments/s1/swab7s.align',\n",
              " 'data/alignments/s1/swab8p.align',\n",
              " 'data/alignments/s1/swab9a.align',\n",
              " 'data/alignments/s1/swai1s.align',\n",
              " 'data/alignments/s1/swai2p.align',\n",
              " 'data/alignments/s1/swai3a.align',\n",
              " 'data/alignments/s1/swaizn.align',\n",
              " 'data/alignments/s1/swao4n.align',\n",
              " 'data/alignments/s1/swao5s.align',\n",
              " 'data/alignments/s1/swao6p.align',\n",
              " 'data/alignments/s1/swao7a.align',\n",
              " 'data/alignments/s1/swau8n.align',\n",
              " 'data/alignments/s1/swau9s.align',\n",
              " 'data/alignments/s1/swav1a.align',\n",
              " 'data/alignments/s1/swavzp.align',\n",
              " 'data/alignments/s1/swbc1s.align',\n",
              " 'data/alignments/s1/swbc2p.align',\n",
              " 'data/alignments/s1/swbc3a.align',\n",
              " 'data/alignments/s1/swbczn.align',\n",
              " 'data/alignments/s1/swbi4n.align',\n",
              " 'data/alignments/s1/swbi5s.align',\n",
              " 'data/alignments/s1/swbi6p.align',\n",
              " 'data/alignments/s1/swbi7a.align',\n",
              " 'data/alignments/s1/swbo8n.align',\n",
              " 'data/alignments/s1/swbo9s.align',\n",
              " 'data/alignments/s1/swbp1a.align',\n",
              " 'data/alignments/s1/swbpzp.align',\n",
              " 'data/alignments/s1/swbv2n.align',\n",
              " 'data/alignments/s1/swbv3s.align',\n",
              " 'data/alignments/s1/swbv4p.align',\n",
              " 'data/alignments/s1/swbv5a.align',\n",
              " 'data/alignments/s1/swib2n.align',\n",
              " 'data/alignments/s1/swib3s.align',\n",
              " 'data/alignments/s1/swib4p.align',\n",
              " 'data/alignments/s1/swib5a.align',\n",
              " 'data/alignments/s1/swih6n.align',\n",
              " 'data/alignments/s1/swih7s.align',\n",
              " 'data/alignments/s1/swih8p.align',\n",
              " 'data/alignments/s1/swih9a.align',\n",
              " 'data/alignments/s1/swio1s.align',\n",
              " 'data/alignments/s1/swio2p.align',\n",
              " 'data/alignments/s1/swio3a.align',\n",
              " 'data/alignments/s1/swiozn.align',\n",
              " 'data/alignments/s1/swiu4n.align',\n",
              " 'data/alignments/s1/swiu5s.align',\n",
              " 'data/alignments/s1/swiu6p.align',\n",
              " 'data/alignments/s1/swiu7a.align',\n",
              " 'data/alignments/s1/swwc4n.align',\n",
              " 'data/alignments/s1/swwc5s.align',\n",
              " 'data/alignments/s1/swwc6p.align',\n",
              " 'data/alignments/s1/swwc7a.align',\n",
              " 'data/alignments/s1/swwi8n.align',\n",
              " 'data/alignments/s1/swwi9s.align',\n",
              " 'data/alignments/s1/swwj1a.align',\n",
              " 'data/alignments/s1/swwjzp.align',\n",
              " 'data/alignments/s1/swwp2n.align',\n",
              " 'data/alignments/s1/swwp3s.align',\n",
              " 'data/alignments/s1/swwp4p.align',\n",
              " 'data/alignments/s1/swwp5a.align',\n",
              " 'data/alignments/s1/swwv6n.align',\n",
              " ...]"
            ]
          },
          "metadata": {},
          "execution_count": 2
        }
      ],
      "source": [
        "import gdown\n",
        "url = 'https://drive.google.com/uc?id=1YlvpDLix3S-U8fd-gqRwPcWXAXm8JwjL'\n",
        "output = 'data.zip'\n",
        "gdown.download(url, output, quiet=False)\n",
        "gdown.extractall('data.zip')"
      ]
    },
    {
      "cell_type": "code",
      "execution_count": 3,
      "metadata": {
        "id": "_1vtHRBZ5rPL"
      },
      "outputs": [],
      "source": [
        "def load_video(path:str) -> List[float]:\n",
        "\n",
        "    cap = cv2.VideoCapture(path)\n",
        "    frames = []\n",
        "    for _ in range(int(cap.get(cv2.CAP_PROP_FRAME_COUNT))):\n",
        "        ret, frame = cap.read()\n",
        "        frame = tf.image.rgb_to_grayscale(frame)\n",
        "        frames.append(frame[190:236,80:220,:])\n",
        "    cap.release()\n",
        "\n",
        "    mean = tf.math.reduce_mean(frames)\n",
        "    std = tf.math.reduce_std(tf.cast(frames, tf.float32))\n",
        "    return tf.cast((frames - mean), tf.float32) / std"
      ]
    },
    {
      "cell_type": "code",
      "execution_count": 4,
      "metadata": {
        "colab": {
          "base_uri": "https://localhost:8080/"
        },
        "id": "dYhJQ9UGc5h0",
        "outputId": "5a83f2b4-826e-4c6d-a9c9-30658b5bd0c7"
      },
      "outputs": [
        {
          "output_type": "execute_result",
          "data": {
            "text/plain": [
              "['a',\n",
              " 'b',\n",
              " 'c',\n",
              " 'd',\n",
              " 'e',\n",
              " 'f',\n",
              " 'g',\n",
              " 'h',\n",
              " 'i',\n",
              " 'j',\n",
              " 'k',\n",
              " 'l',\n",
              " 'm',\n",
              " 'n',\n",
              " 'o',\n",
              " 'p',\n",
              " 'q',\n",
              " 'r',\n",
              " 's',\n",
              " 't',\n",
              " 'u',\n",
              " 'v',\n",
              " 'w',\n",
              " 'x',\n",
              " 'y',\n",
              " 'z',\n",
              " \"'\",\n",
              " '?',\n",
              " '!',\n",
              " '1',\n",
              " '2',\n",
              " '3',\n",
              " '4',\n",
              " '5',\n",
              " '6',\n",
              " '7',\n",
              " '8',\n",
              " '9',\n",
              " ' ']"
            ]
          },
          "metadata": {},
          "execution_count": 4
        }
      ],
      "source": [
        "vocab = [x for x in \"abcdefghijklmnopqrstuvwxyz'?!123456789 \"]\n",
        "vocab"
      ]
    },
    {
      "cell_type": "code",
      "execution_count": 5,
      "metadata": {
        "colab": {
          "base_uri": "https://localhost:8080/"
        },
        "id": "K92xVhotXQlk",
        "outputId": "271bd6f9-21db-49c9-b6ed-0d2d27683650"
      },
      "outputs": [
        {
          "output_type": "stream",
          "name": "stdout",
          "text": [
            "The vocabulary is: ['', 'a', 'b', 'c', 'd', 'e', 'f', 'g', 'h', 'i', 'j', 'k', 'l', 'm', 'n', 'o', 'p', 'q', 'r', 's', 't', 'u', 'v', 'w', 'x', 'y', 'z', \"'\", '?', '!', '1', '2', '3', '4', '5', '6', '7', '8', '9', ' '] (size =40)\n"
          ]
        }
      ],
      "source": [
        "char_to_num = tf.keras.layers.StringLookup(vocabulary=vocab, oov_token=\"\")\n",
        "num_to_char = tf.keras.layers.StringLookup(\n",
        "    vocabulary=char_to_num.get_vocabulary(), oov_token=\"\", invert=True\n",
        ")\n",
        "\n",
        "print(\n",
        "    f\"The vocabulary is: {char_to_num.get_vocabulary()} \"\n",
        "    f\"(size ={char_to_num.vocabulary_size()})\"\n",
        ")"
      ]
    },
    {
      "cell_type": "code",
      "execution_count": 6,
      "metadata": {
        "id": "K8iL-yFcfVmU"
      },
      "outputs": [],
      "source": [
        "def load_alignments(path:str) -> List[str]:\n",
        "    with open(path, 'r') as f:\n",
        "        lines = f.readlines()\n",
        "    tokens = []\n",
        "    for line in lines:\n",
        "        line = line.split()\n",
        "        if line[2] != 'sil':\n",
        "            tokens = [*tokens,' ',line[2]]\n",
        "    return char_to_num(tf.reshape(tf.strings.unicode_split(tokens, input_encoding='UTF-8'), (-1)))[1:]"
      ]
    },
    {
      "cell_type": "code",
      "execution_count": 7,
      "metadata": {
        "id": "0gY8BTJ_xXle"
      },
      "outputs": [],
      "source": [
        "def load_data(path: str):\n",
        "    path = bytes.decode(path.numpy())\n",
        "    file_name = path.split('/')[-1].split('.')[0]\n",
        "    # File name splitting for windows\n",
        "    # file_name = path.split('\\\\')[-1].split('.')[0]\n",
        "    video_path = os.path.join('data','s1',f'{file_name}.mpg')\n",
        "    alignment_path = os.path.join('data','alignments','s1',f'{file_name}.align')\n",
        "    frames = load_video(video_path)\n",
        "    alignments = load_alignments(alignment_path)\n",
        "\n",
        "    return frames, alignments"
      ]
    },
    {
      "cell_type": "code",
      "execution_count": 8,
      "metadata": {
        "colab": {
          "base_uri": "https://localhost:8080/",
          "height": 36
        },
        "id": "hmhVd911blIK",
        "outputId": "8a9f83bf-ddf4-4af1-bee8-5fa08dc64335"
      },
      "outputs": [
        {
          "output_type": "execute_result",
          "data": {
            "text/plain": [
              "'bbal6n'"
            ],
            "application/vnd.google.colaboratory.intrinsic+json": {
              "type": "string"
            }
          },
          "metadata": {},
          "execution_count": 8
        }
      ],
      "source": [
        "test_path = './data/s1/bbal6n.mpg'\n",
        "tf.convert_to_tensor(test_path).numpy().decode('utf-8').split('/')[-1].split('.')[0]"
      ]
    },
    {
      "cell_type": "code",
      "execution_count": 9,
      "metadata": {
        "id": "puTbAZMucDP8"
      },
      "outputs": [],
      "source": [
        "frames, alignments = load_data(tf.convert_to_tensor(test_path))\n"
      ]
    },
    {
      "cell_type": "code",
      "execution_count": 17,
      "metadata": {
        "colab": {
          "base_uri": "https://localhost:8080/",
          "height": 244
        },
        "id": "Ee_Apx5tcLP0",
        "outputId": "7ee6abc7-3037-4397-f8fd-e5f048935157"
      },
      "outputs": [
        {
          "output_type": "execute_result",
          "data": {
            "text/plain": [
              "<matplotlib.image.AxesImage at 0x7db2801487f0>"
            ]
          },
          "metadata": {},
          "execution_count": 17
        },
        {
          "output_type": "display_data",
          "data": {
            "text/plain": [
              "<Figure size 640x480 with 1 Axes>"
            ],
            "image/png": "[encoded data removed]"
          },
          "metadata": {}
        }
      ],
      "source": [
        "plt.imshow(frames[2])\n"
      ]
    },
    {
      "cell_type": "code",
      "execution_count": 11,
      "metadata": {
        "colab": {
          "base_uri": "https://localhost:8080/"
        },
        "id": "80Qs_LcwcLUj",
        "outputId": "2e6ad4c0-c8ed-45ba-d2ca-6979d5f3044e"
      },
      "outputs": [
        {
          "output_type": "execute_result",
          "data": {
            "text/plain": [
              "<tf.Tensor: shape=(21,), dtype=int64, numpy=\n",
              "array([ 2,  9, 14, 39,  2, 12, 21,  5, 39,  1, 20, 39, 12, 39, 19,  9, 24,\n",
              "       39, 14, 15, 23])>"
            ]
          },
          "metadata": {},
          "execution_count": 11
        }
      ],
      "source": [
        "alignments"
      ]
    },
    {
      "cell_type": "code",
      "execution_count": 12,
      "metadata": {
        "colab": {
          "base_uri": "https://localhost:8080/"
        },
        "id": "mOaKpbyLcLYj",
        "outputId": "4814f0e1-7eab-4d00-dfff-592af578c818"
      },
      "outputs": [
        {
          "output_type": "execute_result",
          "data": {
            "text/plain": [
              "<tf.Tensor: shape=(), dtype=string, numpy=b'bin blue at l six now'>"
            ]
          },
          "metadata": {},
          "execution_count": 12
        }
      ],
      "source": [
        "tf.strings.reduce_join([bytes.decode(x) for x in num_to_char(alignments.numpy()).numpy()])"
      ]
    },
    {
      "cell_type": "code",
      "source": [
        "def mappable_function(path:str) ->List[str]:\n",
        "    result = tf.py_function(load_data, [path], (tf.float32, tf.int64))\n",
        "    return result"
      ],
      "metadata": {
        "id": "iCMxShjyB6LT"
      },
      "execution_count": 13,
      "outputs": []
    },
    {
      "cell_type": "code",
      "execution_count": 14,
      "metadata": {
        "id": "a9N6chPmzAok"
      },
      "outputs": [],
      "source": [
        "from matplotlib import pyplot as plt\n",
        "data = tf.data.Dataset.list_files('/content/data/s1/*.mpg')\n",
        "data = data.shuffle(500, reshuffle_each_iteration=False)\n",
        "data = data.map(mappable_function)\n",
        "data = data.padded_batch(2, padded_shapes=([75,None,None,None],[40]))\n",
        "data = data.prefetch(tf.data.AUTOTUNE)\n",
        "# Added for split\n",
        "train = data.take(450)\n",
        "test = data.skip(450)"
      ]
    },
    {
      "cell_type": "code",
      "source": [
        "len(train\n",
        ")"
      ],
      "metadata": {
        "colab": {
          "base_uri": "https://localhost:8080/"
        },
        "id": "JR6QlNLjBsii",
        "outputId": "59ec9370-4aeb-4f45-d213-de7164a96412"
      },
      "execution_count": 15,
      "outputs": [
        {
          "output_type": "execute_result",
          "data": {
            "text/plain": [
              "450"
            ]
          },
          "metadata": {},
          "execution_count": 15
        }
      ]
    },
    {
      "cell_type": "code",
      "source": [
        "sample = data.as_numpy_iterator()"
      ],
      "metadata": {
        "id": "7JZYPbV0Bsls"
      },
      "execution_count": null,
      "outputs": []
    },
    {
      "cell_type": "code",
      "source": [
        "sample"
      ],
      "metadata": {
        "colab": {
          "base_uri": "https://localhost:8080/"
        },
        "id": "3to-Rcm0Bsot",
        "outputId": "b56dfb41-6bd8-4d2b-c120-8f25394eb0be"
      },
      "execution_count": null,
      "outputs": [
        {
          "output_type": "execute_result",
          "data": {
            "text/plain": [
              "<tensorflow.python.data.ops.dataset_ops._NumpyIterator at 0x780f2ffa1800>"
            ]
          },
          "metadata": {},
          "execution_count": 32
        }
      ]
    },
    {
      "cell_type": "code",
      "source": [
        "val = sample.next(); val[0]"
      ],
      "metadata": {
        "id": "uqseHE2GBsrw"
      },
      "execution_count": null,
      "outputs": []
    },
    {
      "cell_type": "code",
      "source": [
        "plt.imshow(val[0][1][35])"
      ],
      "metadata": {
        "colab": {
          "base_uri": "https://localhost:8080/",
          "height": 244
        },
        "id": "ibJv4BBWBsvs",
        "outputId": "db010566-3b70-4687-c8c4-933d86320cb1"
      },
      "execution_count": null,
      "outputs": [
        {
          "output_type": "execute_result",
          "data": {
            "text/plain": [
              "<matplotlib.image.AxesImage at 0x780ec1315840>"
            ]
          },
          "metadata": {},
          "execution_count": 38
        },
        {
          "output_type": "display_data",
          "data": {
            "text/plain": [
              "<Figure size 640x480 with 1 Axes>"
            ],
            "image/png": "[encoded data removed]"
          },
          "metadata": {}
        }
      ]
    },
    {
      "cell_type": "code",
      "source": [
        "tf.strings.reduce_join([num_to_char(word) for word in val[1][1]])"
      ],
      "metadata": {
        "colab": {
          "base_uri": "https://localhost:8080/"
        },
        "id": "B5MICpsIBs1f",
        "outputId": "325d0dda-a685-4eb9-eb93-99b258b41b54"
      },
      "execution_count": null,
      "outputs": [
        {
          "output_type": "execute_result",
          "data": {
            "text/plain": [
              "<tf.Tensor: shape=(), dtype=string, numpy=b'bin white with n seven soon'>"
            ]
          },
          "metadata": {},
          "execution_count": 39
        }
      ]
    },
    {
      "cell_type": "code",
      "source": [
        "from tensorflow.keras.models import Sequential\n",
        "from tensorflow.keras.layers import Conv3D, LSTM, Dense, Dropout, Bidirectional, MaxPool3D, Activation, Reshape, SpatialDropout3D, BatchNormalization, TimeDistributed, Flatten\n",
        "from tensorflow.keras.optimizers.legacy import Adam\n",
        "from tensorflow.keras.callbacks import ModelCheckpoint, LearningRateScheduler"
      ],
      "metadata": {
        "id": "MBq-ZKSsBs4h"
      },
      "execution_count": 18,
      "outputs": []
    },
    {
      "cell_type": "code",
      "source": [
        "data.as_numpy_iterator().next()[0][0].shape"
      ],
      "metadata": {
        "colab": {
          "base_uri": "https://localhost:8080/"
        },
        "id": "jU__lyE5DI6I",
        "outputId": "ebd50c07-4700-4ac9-bc75-6d4c33b34520"
      },
      "execution_count": null,
      "outputs": [
        {
          "output_type": "execute_result",
          "data": {
            "text/plain": [
              "(75, 46, 140, 1)"
            ]
          },
          "metadata": {},
          "execution_count": 42
        }
      ]
    },
    {
      "cell_type": "code",
      "source": [
        "model = Sequential()\n",
        "model.add(Conv3D(128, 3, input_shape=(75,46,140,1), padding='same'))\n",
        "model.add(Activation('relu'))\n",
        "model.add(MaxPool3D((1,2,2)))\n",
        "\n",
        "model.add(Conv3D(256, 3, padding='same'))\n",
        "model.add(Activation('relu'))\n",
        "model.add(MaxPool3D((1,2,2)))\n",
        "\n",
        "model.add(Conv3D(75, 3, padding='same'))\n",
        "model.add(Activation('relu'))\n",
        "model.add(MaxPool3D((1,2,2)))\n",
        "\n",
        "model.add(TimeDistributed(Flatten()))\n",
        "\n",
        "model.add(Bidirectional(LSTM(128, kernel_initializer='Orthogonal', return_sequences=True)))\n",
        "model.add(Dropout(.5))\n",
        "\n",
        "model.add(Bidirectional(LSTM(128, kernel_initializer='Orthogonal', return_sequences=True)))\n",
        "model.add(Dropout(.5))\n",
        "\n",
        "model.add(Dense(char_to_num.vocabulary_size()+1, kernel_initializer='he_normal', activation='softmax'))"
      ],
      "metadata": {
        "id": "LBF5XlbJDI9q"
      },
      "execution_count": 19,
      "outputs": []
    },
    {
      "cell_type": "code",
      "source": [
        "model.summary()"
      ],
      "metadata": {
        "colab": {
          "base_uri": "https://localhost:8080/"
        },
        "id": "cpc9QTZMDJA-",
        "outputId": "f7247398-6dc7-457f-f6a3-1f6f06083513"
      },
      "execution_count": null,
      "outputs": [
        {
          "output_type": "stream",
          "name": "stdout",
          "text": [
            "Model: \"sequential_1\"\n",
            "_________________________________________________________________\n",
            " Layer (type)                Output Shape              Param #   \n",
            "=================================================================\n",
            " conv3d_3 (Conv3D)           (None, 75, 46, 140, 128   3584      \n",
            "                             )                                   \n",
            "                                                                 \n",
            " activation_3 (Activation)   (None, 75, 46, 140, 128   0         \n",
            "                             )                                   \n",
            "                                                                 \n",
            " max_pooling3d_3 (MaxPoolin  (None, 75, 23, 70, 128)   0         \n",
            " g3D)                                                            \n",
            "                                                                 \n",
            " conv3d_4 (Conv3D)           (None, 75, 23, 70, 256)   884992    \n",
            "                                                                 \n",
            " activation_4 (Activation)   (None, 75, 23, 70, 256)   0         \n",
            "                                                                 \n",
            " max_pooling3d_4 (MaxPoolin  (None, 75, 11, 35, 256)   0         \n",
            " g3D)                                                            \n",
            "                                                                 \n",
            " conv3d_5 (Conv3D)           (None, 75, 11, 35, 75)    518475    \n",
            "                                                                 \n",
            " activation_5 (Activation)   (None, 75, 11, 35, 75)    0         \n",
            "                                                                 \n",
            " max_pooling3d_5 (MaxPoolin  (None, 75, 5, 17, 75)     0         \n",
            " g3D)                                                            \n",
            "                                                                 \n",
            " time_distributed_1 (TimeDi  (None, 75, 6375)          0         \n",
            " stributed)                                                      \n",
            "                                                                 \n",
            " bidirectional_2 (Bidirecti  (None, 75, 256)           6660096   \n",
            " onal)                                                           \n",
            "                                                                 \n",
            " dropout_2 (Dropout)         (None, 75, 256)           0         \n",
            "                                                                 \n",
            " bidirectional_3 (Bidirecti  (None, 75, 256)           394240    \n",
            " onal)                                                           \n",
            "                                                                 \n",
            " dropout_3 (Dropout)         (None, 75, 256)           0         \n",
            "                                                                 \n",
            " dense_1 (Dense)             (None, 75, 41)            10537     \n",
            "                                                                 \n",
            "=================================================================\n",
            "Total params: 8471924 (32.32 MB)\n",
            "Trainable params: 8471924 (32.32 MB)\n",
            "Non-trainable params: 0 (0.00 Byte)\n",
            "_________________________________________________________________\n"
          ]
        }
      ]
    },
    {
      "cell_type": "code",
      "source": [
        "import tensorflow as tf\n",
        "from tensorflow import keras"
      ],
      "metadata": {
        "id": "ufAtR5klDJD5"
      },
      "execution_count": null,
      "outputs": []
    },
    {
      "cell_type": "code",
      "source": [
        "keras.utils.plot_model(model)"
      ],
      "metadata": {
        "colab": {
          "base_uri": "https://localhost:8080/",
          "height": 1000
        },
        "id": "sf7tn3QqBs7e",
        "outputId": "04a142c2-f3ea-4f4c-c82e-cfc3ffd8f518"
      },
      "execution_count": null,
      "outputs": [
        {
          "output_type": "execute_result",
          "data": {
            "image/png": "[encoded data removed]",
            "text/plain": [
              "<IPython.core.display.Image object>"
            ]
          },
          "metadata": {},
          "execution_count": 52
        }
      ]
    },
    {
      "cell_type": "code",
      "source": [
        "yhat = model.predict(val[0])\n"
      ],
      "metadata": {
        "colab": {
          "base_uri": "https://localhost:8080/"
        },
        "id": "GE7XA4gbBs-g",
        "outputId": "8956be14-3e30-4caf-fa53-cb939b855b75"
      },
      "execution_count": null,
      "outputs": [
        {
          "output_type": "stream",
          "name": "stdout",
          "text": [
            "1/1 [==============================] - 9s 9s/step\n"
          ]
        }
      ]
    },
    {
      "cell_type": "code",
      "source": [
        "yhat"
      ],
      "metadata": {
        "colab": {
          "base_uri": "https://localhost:8080/"
        },
        "id": "zw_6lHRtBtBb",
        "outputId": "a8d0c779-6ccf-44c4-ffd2-a4d62aa91d28"
      },
      "execution_count": null,
      "outputs": [
        {
          "output_type": "execute_result",
          "data": {
            "text/plain": [
              "array([[[0.023477  , 0.01972037, 0.02991942, ..., 0.03019698,\n",
              "         0.02650131, 0.02317179],\n",
              "        [0.02259527, 0.01935102, 0.03047962, ..., 0.03093099,\n",
              "         0.02696701, 0.02277003],\n",
              "        [0.02209558, 0.01915876, 0.03080808, ..., 0.03213139,\n",
              "         0.02721296, 0.02235265],\n",
              "        ...,\n",
              "        [0.02109055, 0.02077763, 0.02954616, ..., 0.03419327,\n",
              "         0.02132239, 0.02078096],\n",
              "        [0.02146365, 0.02207047, 0.0283673 , ..., 0.03320159,\n",
              "         0.0212568 , 0.02112074],\n",
              "        [0.02185753, 0.02336649, 0.02719181, ..., 0.03187159,\n",
              "         0.02160368, 0.02161161]],\n",
              "\n",
              "       [[0.0218101 , 0.02019904, 0.03044686, ..., 0.0295702 ,\n",
              "         0.0250998 , 0.02409123],\n",
              "        [0.02085663, 0.02001645, 0.03046969, ..., 0.0303253 ,\n",
              "         0.02565141, 0.0237017 ],\n",
              "        [0.02029196, 0.01996637, 0.03053702, ..., 0.03155737,\n",
              "         0.02592803, 0.02318808],\n",
              "        ...,\n",
              "        [0.01962109, 0.02294579, 0.02818825, ..., 0.03226327,\n",
              "         0.02132246, 0.02218728],\n",
              "        [0.02047863, 0.02421182, 0.02729174, ..., 0.03188776,\n",
              "         0.02127825, 0.02235142],\n",
              "        [0.0213366 , 0.02541795, 0.02655934, ..., 0.03130942,\n",
              "         0.02166913, 0.02264796]]], dtype=float32)"
            ]
          },
          "metadata": {},
          "execution_count": 56
        }
      ]
    },
    {
      "cell_type": "code",
      "source": [
        "def scheduler(epoch, lr):\n",
        "    if epoch < 30:\n",
        "        return lr\n",
        "    else:\n",
        "        return lr * tf.math.exp(-0.1)\n",
        "def CTCLoss(y_true, y_pred):\n",
        "    batch_len = tf.cast(tf.shape(y_true)[0], dtype=\"int64\")\n",
        "    input_length = tf.cast(tf.shape(y_pred)[1], dtype=\"int64\")\n",
        "    label_length = tf.cast(tf.shape(y_true)[1], dtype=\"int64\")\n",
        "\n",
        "    input_length = input_length * tf.ones(shape=(batch_len, 1), dtype=\"int64\")\n",
        "    label_length = label_length * tf.ones(shape=(batch_len, 1), dtype=\"int64\")\n",
        "\n",
        "    loss = tf.keras.backend.ctc_batch_cost(y_true, y_pred, input_length, label_length)\n",
        "    return loss\n",
        "class ProduceExample(tf.keras.callbacks.Callback):\n",
        "    def __init__(self, dataset) -> None:\n",
        "        self.dataset = dataset.as_numpy_iterator()\n",
        "\n",
        "    def on_epoch_end(self, epoch, logs=None) -> None:\n",
        "        data = self.dataset.next()\n",
        "        yhat = self.model.predict(data[0])\n",
        "        decoded = tf.keras.backend.ctc_decode(yhat, [75,75], greedy=False)[0][0].numpy()\n",
        "        for x in range(len(yhat)):\n",
        "            print('Original:', tf.strings.reduce_join(num_to_char(data[1][x])).numpy().decode('utf-8'))\n",
        "            print('Prediction:', tf.strings.reduce_join(num_to_char(decoded[x])).numpy().decode('utf-8'))\n",
        "            print('~'*100)"
      ],
      "metadata": {
        "id": "0hyTAO4kTmT8"
      },
      "execution_count": null,
      "outputs": []
    },
    {
      "cell_type": "code",
      "source": [
        "model.compile(optimizer=Adam(learning_rate=0.0001), loss=CTCLoss)"
      ],
      "metadata": {
        "id": "-XZWV49STtdO"
      },
      "execution_count": null,
      "outputs": []
    },
    {
      "cell_type": "code",
      "source": [
        "checkpoint_callback = ModelCheckpoint(os.path.join('models','checkpoint'), monitor='loss', save_weights_only=True)\n",
        "schedule_callback = LearningRateScheduler(scheduler)\n",
        "example_callback = ProduceExample(test)"
      ],
      "metadata": {
        "id": "-tB1zdTrTvNw"
      },
      "execution_count": null,
      "outputs": []
    },
    {
      "cell_type": "code",
      "source": [
        "model.fit(train, validation_data=test, epochs=50, callbacks=[checkpoint_callback, schedule_callback]) #, example_callback"
      ],
      "metadata": {
        "colab": {
          "base_uri": "https://localhost:8080/"
        },
        "id": "NLvC7iOoTy16",
        "outputId": "a39dd6ce-142b-4e42-c5a6-586395a0c574"
      },
      "execution_count": null,
      "outputs": [
        {
          "output_type": "stream",
          "name": "stdout",
          "text": [
            "Epoch 1/50\n",
            "450/450 [==============================] - 694s 2s/step - loss: 54.3347 - val_loss: 49.8742 - lr: 1.0000e-04\n",
            "Epoch 2/50\n",
            "450/450 [==============================] - 674s 1s/step - loss: 52.4212 - val_loss: 47.5493 - lr: 1.0000e-04\n",
            "Epoch 3/50\n",
            "450/450 [==============================] - 667s 1s/step - loss: 50.4139 - val_loss: 45.8626 - lr: 1.0000e-04\n",
            "Epoch 4/50\n",
            "450/450 [==============================] - 666s 1s/step - loss: 48.1352 - val_loss: 41.9049 - lr: 1.0000e-04\n",
            "Epoch 5/50\n",
            "450/450 [==============================] - 661s 1s/step - loss: 45.5958 - val_loss: 41.8115 - lr: 1.0000e-04\n",
            "Epoch 6/50\n",
            "450/450 [==============================] - 660s 1s/step - loss: 43.1029 - val_loss: 36.7298 - lr: 1.0000e-04\n",
            "Epoch 7/50\n",
            "450/450 [==============================] - 658s 1s/step - loss: 40.6853 - val_loss: 35.8504 - lr: 1.0000e-04\n",
            "Epoch 8/50\n",
            "450/450 [==============================] - 652s 1s/step - loss: 38.4186 - val_loss: 33.7016 - lr: 1.0000e-04\n",
            "Epoch 9/50\n",
            "450/450 [==============================] - 659s 1s/step - loss: 35.7773 - val_loss: 29.7229 - lr: 1.0000e-04\n",
            "Epoch 10/50\n",
            "450/450 [==============================] - 665s 1s/step - loss: 33.5299 - val_loss: 27.7927 - lr: 1.0000e-04\n",
            "Epoch 11/50\n",
            "450/450 [==============================] - 662s 1s/step - loss: 30.9524 - val_loss: 25.3116 - lr: 1.0000e-04\n",
            "Epoch 12/50\n",
            "438/450 [============================>.] - ETA: 11s - loss: 28.5261"
          ]
        }
      ]
    },
    {
      "cell_type": "code",
      "source": [
        "url = 'https://drive.google.com/uc?id=1vWscXs4Vt0a_1IH1-ct2TCgXAZT-N3_Y'\n",
        "output = 'checkpoints.zip'\n",
        "gdown.download(url, output, quiet=False)\n",
        "gdown.extractall('checkpoints.zip', 'models')"
      ],
      "metadata": {
        "id": "E7OFRxP4UGE6",
        "colab": {
          "base_uri": "https://localhost:8080/"
        },
        "outputId": "ea5f6dfd-a46e-4882-867a-d80549406af7"
      },
      "execution_count": 20,
      "outputs": [
        {
          "output_type": "stream",
          "name": "stderr",
          "text": [
            "Downloading...\n",
            "From: https://drive.google.com/uc?id=1vWscXs4Vt0a_1IH1-ct2TCgXAZT-N3_Y\n",
            "To: /content/checkpoints.zip\n",
            "100%|██████████| 94.5M/94.5M [00:02<00:00, 39.2MB/s]\n"
          ]
        },
        {
          "output_type": "execute_result",
          "data": {
            "text/plain": [
              "['models/checkpoint.index',\n",
              " 'models/__MACOSX/._checkpoint.index',\n",
              " 'models/checkpoint.data-00000-of-00001',\n",
              " 'models/__MACOSX/._checkpoint.data-00000-of-00001',\n",
              " 'models/checkpoint',\n",
              " 'models/__MACOSX/._checkpoint']"
            ]
          },
          "metadata": {},
          "execution_count": 20
        }
      ]
    },
    {
      "cell_type": "code",
      "source": [
        "model.load_weights('/content/models/checkpoint')"
      ],
      "metadata": {
        "colab": {
          "base_uri": "https://localhost:8080/"
        },
        "id": "nraDRKfKfsRc",
        "outputId": "71ee3029-fec6-45de-d678-5fbd13b9653d"
      },
      "execution_count": 21,
      "outputs": [
        {
          "output_type": "execute_result",
          "data": {
            "text/plain": [
              "<tensorflow.python.checkpoint.checkpoint.CheckpointLoadStatus at 0x7db28177b460>"
            ]
          },
          "metadata": {},
          "execution_count": 21
        }
      ]
    },
    {
      "cell_type": "code",
      "source": [
        "test_data = test.as_numpy_iterator()"
      ],
      "metadata": {
        "id": "_PynB_JNhe63"
      },
      "execution_count": 22,
      "outputs": []
    },
    {
      "cell_type": "code",
      "source": [
        "sample = test_data.next()\n",
        "yhat = model.predict(sample[0])"
      ],
      "metadata": {
        "colab": {
          "base_uri": "https://localhost:8080/"
        },
        "id": "1F4z5hTOtjSf",
        "outputId": "6bd33e9a-6b39-4bd1-87c2-615ca49689c9"
      },
      "execution_count": 23,
      "outputs": [
        {
          "output_type": "stream",
          "name": "stdout",
          "text": [
            "1/1 [==============================] - 9s 9s/step\n"
          ]
        }
      ]
    },
    {
      "cell_type": "code",
      "source": [
        "print('~'*100, 'REAL TEXT')\n",
        "[tf.strings.reduce_join([num_to_char(word) for word in sentence]) for sentence in sample[1]]"
      ],
      "metadata": {
        "id": "adoqbt6gUKjN",
        "colab": {
          "base_uri": "https://localhost:8080/"
        },
        "outputId": "da90a204-7397-43fb-87af-86f085292562"
      },
      "execution_count": 24,
      "outputs": [
        {
          "output_type": "stream",
          "name": "stdout",
          "text": [
            "~~~~~~~~~~~~~~~~~~~~~~~~~~~~~~~~~~~~~~~~~~~~~~~~~~~~~~~~~~~~~~~~~~~~~~~~~~~~~~~~~~~~~~~~~~~~~~~~~~~~ REAL TEXT\n"
          ]
        },
        {
          "output_type": "execute_result",
          "data": {
            "text/plain": [
              "[<tf.Tensor: shape=(), dtype=string, numpy=b'place blue by j one again'>,\n",
              " <tf.Tensor: shape=(), dtype=string, numpy=b'place blue with x one soon'>]"
            ]
          },
          "metadata": {},
          "execution_count": 24
        }
      ]
    },
    {
      "cell_type": "code",
      "source": [
        "decoded = tf.keras.backend.ctc_decode(yhat, input_length=[75,75], greedy=True)[0][0].numpy()"
      ],
      "metadata": {
        "id": "vsy6k4kAUPaX"
      },
      "execution_count": 25,
      "outputs": []
    },
    {
      "cell_type": "code",
      "source": [
        "print('~'*100, 'PREDICTIONS')\n",
        "[tf.strings.reduce_join([num_to_char(word) for word in sentence]) for sentence in decoded]"
      ],
      "metadata": {
        "id": "iLeskki3UQ67",
        "colab": {
          "base_uri": "https://localhost:8080/"
        },
        "outputId": "28677b30-1a95-47ac-c962-41233d25bd09"
      },
      "execution_count": 26,
      "outputs": [
        {
          "output_type": "stream",
          "name": "stdout",
          "text": [
            "~~~~~~~~~~~~~~~~~~~~~~~~~~~~~~~~~~~~~~~~~~~~~~~~~~~~~~~~~~~~~~~~~~~~~~~~~~~~~~~~~~~~~~~~~~~~~~~~~~~~ PREDICTIONS\n"
          ]
        },
        {
          "output_type": "execute_result",
          "data": {
            "text/plain": [
              "[<tf.Tensor: shape=(), dtype=string, numpy=b'place blue by j one again'>,\n",
              " <tf.Tensor: shape=(), dtype=string, numpy=b'place blue with x one soon'>]"
            ]
          },
          "metadata": {},
          "execution_count": 26
        }
      ]
    },
    {
      "cell_type": "code",
      "source": [
        "sample = load_data(tf.convert_to_tensor('content/data/s1/bras9a.mpg'))"
      ],
      "metadata": {
        "id": "jqdjctSVUStl"
      },
      "execution_count": 27,
      "outputs": []
    },
    {
      "cell_type": "code",
      "source": [
        "print('~'*100, 'REAL TEXT')\n",
        "[tf.strings.reduce_join([num_to_char(word) for word in sentence]) for sentence in [sample[1]]]"
      ],
      "metadata": {
        "id": "PPCm4Y7fUWWW",
        "colab": {
          "base_uri": "https://localhost:8080/"
        },
        "outputId": "13707e2b-4380-48ac-d927-5effe076171d"
      },
      "execution_count": 28,
      "outputs": [
        {
          "output_type": "stream",
          "name": "stdout",
          "text": [
            "~~~~~~~~~~~~~~~~~~~~~~~~~~~~~~~~~~~~~~~~~~~~~~~~~~~~~~~~~~~~~~~~~~~~~~~~~~~~~~~~~~~~~~~~~~~~~~~~~~~~ REAL TEXT\n"
          ]
        },
        {
          "output_type": "execute_result",
          "data": {
            "text/plain": [
              "[<tf.Tensor: shape=(), dtype=string, numpy=b'bin red at s nine again'>]"
            ]
          },
          "metadata": {},
          "execution_count": 28
        }
      ]
    },
    {
      "cell_type": "code",
      "source": [
        "yhat = model.predict(tf.expand_dims(sample[0], axis=0))"
      ],
      "metadata": {
        "id": "WNpK5h8wUXnG",
        "colab": {
          "base_uri": "https://localhost:8080/"
        },
        "outputId": "3f1c1a4a-418f-4d9f-b660-f3f9176332d7"
      },
      "execution_count": 29,
      "outputs": [
        {
          "output_type": "stream",
          "name": "stdout",
          "text": [
            "1/1 [==============================] - 1s 1s/step\n"
          ]
        }
      ]
    },
    {
      "cell_type": "code",
      "source": [
        "decoded = tf.keras.backend.ctc_decode(yhat, input_length=[75], greedy=True)[0][0].numpy()"
      ],
      "metadata": {
        "id": "je2UFTUpUZCQ"
      },
      "execution_count": 30,
      "outputs": []
    },
    {
      "cell_type": "code",
      "source": [
        "print('~'*100, 'PREDICTIONS')\n",
        "[tf.strings.reduce_join([num_to_char(word) for word in sentence]) for sentence in decoded]"
      ],
      "metadata": {
        "id": "J1KpzrfuUbJh",
        "colab": {
          "base_uri": "https://localhost:8080/"
        },
        "outputId": "9d534dbe-dcd6-4090-8f49-5385d465a059"
      },
      "execution_count": 31,
      "outputs": [
        {
          "output_type": "stream",
          "name": "stdout",
          "text": [
            "~~~~~~~~~~~~~~~~~~~~~~~~~~~~~~~~~~~~~~~~~~~~~~~~~~~~~~~~~~~~~~~~~~~~~~~~~~~~~~~~~~~~~~~~~~~~~~~~~~~~ PREDICTIONS\n"
          ]
        },
        {
          "output_type": "execute_result",
          "data": {
            "text/plain": [
              "[<tf.Tensor: shape=(), dtype=string, numpy=b'bin red at s nine again'>]"
            ]
          },
          "metadata": {},
          "execution_count": 31
        }
      ]
    },
    {
      "cell_type": "code",
      "source": [
        "model.save('lip_reading.keras')"
      ],
      "metadata": {
        "id": "fczFMfAeUdFr"
      },
      "execution_count": 33,
      "outputs": []
    },
    {
      "cell_type": "code",
      "source": [],
      "metadata": {
        "id": "FqiudiYAUabA"
      },
      "execution_count": null,
      "outputs": []
    }
  ],
  "metadata": {
    "accelerator": "GPU",
    "colab": {
      "provenance": [],
      "authorship_tag": "ABX9TyOePYlNBpLVQhOoxDSWAmsz",
      "include_colab_link": true
    },
    "kernelspec": {
      "display_name": "Python 3",
      "name": "python3"
    },
    "language_info": {
      "name": "python"
    }
  },
  "nbformat": 4,
  "nbformat_minor": 0
}